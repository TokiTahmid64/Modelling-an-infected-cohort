{
 "cells": [
  {
   "cell_type": "markdown",
   "metadata": {},
   "source": [
    "# Automated least-squares calibration: Using ```optim()```, R's built-in optimisation function\n",
    "\n",
    "## Introduction\n",
    "\n",
    "If you've completed the previous etivity, you should now have a working function which takes in data and parameters for an SIR model and calculates the sum-of-squares for the model fit. This is now a function which you can put into ```optim()``` to find the $\\beta$ and $\\gamma$ for the best SIR model fit to a dataset, as measured by least squares.  \n",
    "\n",
    "Using ```optim()```:  \n",
    "You can use ```optim()``` without having to install any packages: it is in the ```stats``` package, which comes with your R installation anyway.\n",
    "\n",
    "It's usually informative to check the help page to see what a function requires:"
   ]
  },
  {
   "cell_type": "code",
   "execution_count": 54,
   "metadata": {},
   "outputs": [],
   "source": [
    " sir_model<-function(timestep,Initial_state_values,parameters)\n",
    "        {\n",
    "        with(as.list(c(Initial_state_values, parameters)), {\n",
    "        N  <- S+I+R\n",
    "   \n",
    "        dS <- -beta*S*I/N\n",
    "        dI <- beta*S*I/N-gamma*I\n",
    "        dR <- gamma*I\n",
    "     \n",
    "        return(list(c(dS, dI, dR)))\n",
    "    \n",
    "    })\n",
    "    }\n",
    "    \n",
    "###this is the basic function for ode\n",
    "    \n",
    "\n",
    "\n"
   ]
  },
  {
   "cell_type": "code",
   "execution_count": 1,
   "metadata": {
    "attributes": {
     "": "",
     "classes": [],
     "id": ""
    }
   },
   "outputs": [],
   "source": [
    "?optim"
   ]
  },
  {
   "cell_type": "code",
   "execution_count": 55,
   "metadata": {},
   "outputs": [],
   "source": [
    "library(deSolve)\n",
    "library(reshape2)\n",
    "library(ggplot2)\n",
    "SIR_SSQ <- function(parameters,data) { \n",
    "    \n",
    "    Initial_state_values <- c(S = 762, I = 1, R = 0)\n",
    "    \n",
    "    parameters<-parameters\n",
    "    timestep<- seq(0,14,0.1)\n",
    "    \n",
    "    \n",
    "    output <- as.data.frame(ode(y = Initial_state_values, \n",
    "                            times = timestep, \n",
    "                            func = sir_model,\n",
    "                            parms = parameters))\n",
    "    data <- na.omit(data)\n",
    "    \n",
    "    deltas2 <- (output$I[output$time %in% data$time] - data$I)^2   \n",
    "    \n",
    "    scq   <- sum(deltas2)\n",
    "    \n",
    "    return(scq)\n",
    "\n",
    "}\n",
    "\n",
    "\n",
    "\n"
   ]
  },
  {
   "cell_type": "code",
   "execution_count": 52,
   "metadata": {},
   "outputs": [],
   "source": [
    "flu_data <- data.frame(time = c(1:14), \n",
    "                      I = c(3, 8, 26, 76, 225, 298, 258, 233, 189, 128, 68, 29, 14, 4))"
   ]
  },
  {
   "cell_type": "markdown",
   "metadata": {},
   "source": [
    "This tells you that the arguments it needs at a minimum are:\n",
    "\n",
    "```par``` : initial values for the parameters to be optimised over  \n",
    "```fn```  : a function to be minimised  \n",
    "\n",
    "So ```optim()``` takes a function (which you provide in the ```fn``` argument) for which it needs to find the minimum (or maximum) value. The output value of the function depends on the values of the parameters, which ```optim()``` will change as it works through the optimisation process; you need to give it some starting values in the ```par``` argument.  \n",
    "\n",
    "What other argument might you need to give?  \n",
    "\n",
    "Hint:  \n",
    "\n",
    "* The help file gives:  \n",
    "```...``` Further arguments to be passed to ```fn``` and ```gr```.  \n",
    "\n",
    "Your ```fn``` argument is your ```SIR_SSQ()``` function. You can't run that function on its own without giving it parameters and a dataset... perhaps you have to provide at least one of these when you run ```optim()```.  \n",
    "\n",
    "\n",
    "## Tasks\n",
    "\n",
    "Your tasks for this etivity are:  \n",
    "\n",
    "1. Use ```optim()``` to find the beta and gamma for the best SIR model to fit an example dataset  \n",
    "2.  Plot the example dataset against your \"best fit\" model  \n",
    "\n",
    "This will involve completing the following example code:  "
   ]
  },
  {
   "cell_type": "code",
   "execution_count": 56,
   "metadata": {},
   "outputs": [
    {
     "data": {
      "text/html": [
       "<dl>\n",
       "\t<dt>$par</dt>\n",
       "\t\t<dd><dl class=dl-horizontal>\n",
       "\t<dt>beta</dt>\n",
       "\t\t<dd>1.66926696080437</dd>\n",
       "\t<dt>gamma</dt>\n",
       "\t\t<dd>0.443452449147493</dd>\n",
       "</dl>\n",
       "</dd>\n",
       "\t<dt>$value</dt>\n",
       "\t\t<dd>4121.9453548388</dd>\n",
       "\t<dt>$counts</dt>\n",
       "\t\t<dd><dl class=dl-horizontal>\n",
       "\t<dt>function</dt>\n",
       "\t\t<dd>69</dd>\n",
       "\t<dt>gradient</dt>\n",
       "\t\t<dd>&lt;NA&gt;</dd>\n",
       "</dl>\n",
       "</dd>\n",
       "\t<dt>$convergence</dt>\n",
       "\t\t<dd>0</dd>\n",
       "\t<dt>$message</dt>\n",
       "\t\t<dd>NULL</dd>\n",
       "</dl>\n"
      ],
      "text/latex": [
       "\\begin{description}\n",
       "\\item[\\$par] \\begin{description*}\n",
       "\\item[beta] 1.66926696080437\n",
       "\\item[gamma] 0.443452449147493\n",
       "\\end{description*}\n",
       "\n",
       "\\item[\\$value] 4121.9453548388\n",
       "\\item[\\$counts] \\begin{description*}\n",
       "\\item[function] 69\n",
       "\\item[gradient] <NA>\n",
       "\\end{description*}\n",
       "\n",
       "\\item[\\$convergence] 0\n",
       "\\item[\\$message] NULL\n",
       "\\end{description}\n"
      ],
      "text/markdown": [
       "$par\n",
       ":   beta\n",
       ":   1.66926696080437gamma\n",
       ":   0.443452449147493\n",
       "\n",
       "\n",
       "$value\n",
       ":   4121.9453548388\n",
       "$counts\n",
       ":   function\n",
       ":   69gradient\n",
       ":   &lt;NA&gt;\n",
       "\n",
       "\n",
       "$convergence\n",
       ":   0\n",
       "$message\n",
       ":   NULL\n",
       "\n",
       "\n"
      ],
      "text/plain": [
       "$par\n",
       "     beta     gamma \n",
       "1.6692670 0.4434524 \n",
       "\n",
       "$value\n",
       "[1] 4121.945\n",
       "\n",
       "$counts\n",
       "function gradient \n",
       "      69       NA \n",
       "\n",
       "$convergence\n",
       "[1] 0\n",
       "\n",
       "$message\n",
       "NULL\n"
      ]
     },
     "metadata": {},
     "output_type": "display_data"
    }
   ],
   "source": [
    "# choose values to start your optimisation\n",
    "beta_start  <- 2\n",
    "gamma_start <- 1.5\n",
    "\n",
    "# times - dense timesteps for a more detailed solution\n",
    "times <- seq(from = 0, to = 14, by = 0.1) \n",
    "\n",
    "# optim\n",
    "# you will need to run the cells to assign your functions first\n",
    "\n",
    "optimised <- optim(par = c(beta = beta_start\n",
    "                        , gamma = gamma_start)      # these are the starting beta \n",
    "                                                    # and gamma that will be fed \n",
    "                                                    # first, into SSQ_fn\n",
    "                        , fn = SIR_SSQ\n",
    "                        , dat = flu_data  # this argument comes under \"...\" \n",
    "                                         # \"Further arguments to be passed to fn and gr\"\n",
    "      )\n",
    "\n",
    "optimised #have a look at the model output"
   ]
  },
  {
   "cell_type": "code",
   "execution_count": 57,
   "metadata": {},
   "outputs": [
    {
     "data": {
      "text/html": [
       "<dl>\n",
       "\t<dt>$par</dt>\n",
       "\t\t<dd><dl class=dl-horizontal>\n",
       "\t<dt>beta</dt>\n",
       "\t\t<dd>1.66926696080437</dd>\n",
       "\t<dt>gamma</dt>\n",
       "\t\t<dd>0.443452449147493</dd>\n",
       "</dl>\n",
       "</dd>\n",
       "\t<dt>$value</dt>\n",
       "\t\t<dd>4121.9453548388</dd>\n",
       "\t<dt>$counts</dt>\n",
       "\t\t<dd><dl class=dl-horizontal>\n",
       "\t<dt>function</dt>\n",
       "\t\t<dd>69</dd>\n",
       "\t<dt>gradient</dt>\n",
       "\t\t<dd>&lt;NA&gt;</dd>\n",
       "</dl>\n",
       "</dd>\n",
       "\t<dt>$convergence</dt>\n",
       "\t\t<dd>0</dd>\n",
       "\t<dt>$message</dt>\n",
       "\t\t<dd>NULL</dd>\n",
       "</dl>\n"
      ],
      "text/latex": [
       "\\begin{description}\n",
       "\\item[\\$par] \\begin{description*}\n",
       "\\item[beta] 1.66926696080437\n",
       "\\item[gamma] 0.443452449147493\n",
       "\\end{description*}\n",
       "\n",
       "\\item[\\$value] 4121.9453548388\n",
       "\\item[\\$counts] \\begin{description*}\n",
       "\\item[function] 69\n",
       "\\item[gradient] <NA>\n",
       "\\end{description*}\n",
       "\n",
       "\\item[\\$convergence] 0\n",
       "\\item[\\$message] NULL\n",
       "\\end{description}\n"
      ],
      "text/markdown": [
       "$par\n",
       ":   beta\n",
       ":   1.66926696080437gamma\n",
       ":   0.443452449147493\n",
       "\n",
       "\n",
       "$value\n",
       ":   4121.9453548388\n",
       "$counts\n",
       ":   function\n",
       ":   69gradient\n",
       ":   &lt;NA&gt;\n",
       "\n",
       "\n",
       "$convergence\n",
       ":   0\n",
       "$message\n",
       ":   NULL\n",
       "\n",
       "\n"
      ],
      "text/plain": [
       "$par\n",
       "     beta     gamma \n",
       "1.6692670 0.4434524 \n",
       "\n",
       "$value\n",
       "[1] 4121.945\n",
       "\n",
       "$counts\n",
       "function gradient \n",
       "      69       NA \n",
       "\n",
       "$convergence\n",
       "[1] 0\n",
       "\n",
       "$message\n",
       "NULL\n"
      ]
     },
     "metadata": {},
     "output_type": "display_data"
    }
   ],
   "source": [
    "optimised"
   ]
  },
  {
   "cell_type": "code",
   "execution_count": 60,
   "metadata": {},
   "outputs": [
    {
     "data": {
      "image/png": "[encoded data removed]",
      "text/plain": [
       "plot without title"
      ]
     },
     "metadata": {},
     "output_type": "display_data"
    }
   ],
   "source": [
    "Initial_state_values <- c(S = 762, I = 1, R = 0)\n",
    "    \n",
    "    parameters<-optimised$par\n",
    "    timestep<- seq(0,14,0.1)\n",
    "\n",
    "output <- as.data.frame(ode(y = Initial_state_values, \n",
    "                            times = timestep, \n",
    "                            func = sir_model,\n",
    "                            parms = parameters))\n",
    "ggplot() +\n",
    "  geom_line(data = output, aes(x = output$time, y = output$I)) +geom_point(data=flu_data,aes(x=flu_data$time,y=flu_data$I),color=\"red\") \n",
    "                                                        \n",
    "                               "
   ]
  }
 ],
 "metadata": {
  "kernelspec": {
   "display_name": "R",
   "language": "R",
   "name": "ir"
  },
  "language_info": {
   "codemirror_mode": "r",
   "file_extension": ".r",
   "mimetype": "text/x-r-source",
   "name": "R",
   "pygments_lexer": "r",
   "version": "3.5.1"
  }
 },
 "nbformat": 4,
 "nbformat_minor": 2
}
