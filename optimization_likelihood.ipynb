{
 "cells": [
  {
   "cell_type": "markdown",
   "metadata": {},
   "source": [
    "# Performing maximum likelihood estimation"
   ]
  },
  {
   "cell_type": "markdown",
   "metadata": {},
   "source": [
    "In the last multiple-choice question, you identified the correct code for calculating the Poisson log likelihood for a given parameter combination. In this etivity, your task is to use this code together with your calibration function from module 3 (the previous week) of this course, to fit the model to our flu outbreak data, by finding the parameter values $\\beta$ and $\\gamma$ that maximise the likelihood. In doing so, you will be calibrating the model using a likelihood approach.\n",
    "\n",
    "Copy-paste both of these into the cell below, and change the code to calculate the log-likelihood distance function instead of the sum-of-squares. The optimisation process is similar to last week, except that we need to **maximise** the likelihood. To do this, fill in the \"optim\" command provided below. "
   ]
  },
  {
   "cell_type": "code",
   "execution_count": null,
   "metadata": {},
   "outputs": [],
   "source": []
  },
  {
   "cell_type": "code",
   "execution_count": 1,
   "metadata": {},
   "outputs": [],
   "source": [
    "sir_model<-function(timestep,Initial_state_values,parameters)\n",
    "        {\n",
    "        with(as.list(c(Initial_state_values, parameters)), {\n",
    "        N  <- S+I+R\n",
    "   \n",
    "        dS <- -beta*S*I/N\n",
    "        dI <- beta*S*I/N-gamma*I\n",
    "        dR <- gamma*I\n",
    "     \n",
    "        return(list(c(dS, dI, dR)))\n",
    "    \n",
    "    })\n",
    "    }"
   ]
  },
  {
   "cell_type": "code",
   "execution_count": 4,
   "metadata": {},
   "outputs": [],
   "source": [
    "library(deSolve)\n",
    "library(reshape2)\n",
    "library(ggplot2)\n",
    "SIR_SSQ <- function(parameters,data) { \n",
    "    \n",
    "    Initial_state_values <- c(S = 762, I = 1, R = 0)\n",
    "    \n",
    "    parameters<-parameters\n",
    "    timestep<- seq(0,14,0.1)\n",
    "    \n",
    "    \n",
    "    output <- as.data.frame(ode(y = Initial_state_values, \n",
    "                            times = timestep, \n",
    "                            func = sir_model,\n",
    "                            parms = parameters))\n",
    "    data <- na.omit(data)\n",
    "    \n",
    "    LL <- sum(dpois(x = data$number_reported, lambda = 0.6 * output$I[output$time %in% reported_data$time], log = TRUE))\n",
    "    \n",
    "    return(LL)\n",
    "\n",
    "}"
   ]
  },
  {
   "cell_type": "code",
   "execution_count": 12,
   "metadata": {},
   "outputs": [
    {
     "data": {
      "text/html": [
       "<table>\n",
       "<thead><tr><th scope=col>time</th><th scope=col>number_reported</th></tr></thead>\n",
       "<tbody>\n",
       "\t<tr><td> 1 </td><td>  2</td></tr>\n",
       "\t<tr><td> 2 </td><td>  5</td></tr>\n",
       "\t<tr><td> 3 </td><td> 16</td></tr>\n",
       "\t<tr><td> 4 </td><td> 46</td></tr>\n",
       "\t<tr><td> 5 </td><td>135</td></tr>\n",
       "\t<tr><td> 6 </td><td>179</td></tr>\n",
       "\t<tr><td> 7 </td><td>155</td></tr>\n",
       "\t<tr><td> 8 </td><td>140</td></tr>\n",
       "\t<tr><td> 9 </td><td>113</td></tr>\n",
       "\t<tr><td>10 </td><td> 77</td></tr>\n",
       "\t<tr><td>11 </td><td> 41</td></tr>\n",
       "\t<tr><td>12 </td><td> 17</td></tr>\n",
       "\t<tr><td>13 </td><td>  8</td></tr>\n",
       "\t<tr><td>14 </td><td>  2</td></tr>\n",
       "</tbody>\n",
       "</table>\n"
      ],
      "text/latex": [
       "\\begin{tabular}{r|ll}\n",
       " time & number\\_reported\\\\\n",
       "\\hline\n",
       "\t  1  &   2\\\\\n",
       "\t  2  &   5\\\\\n",
       "\t  3  &  16\\\\\n",
       "\t  4  &  46\\\\\n",
       "\t  5  & 135\\\\\n",
       "\t  6  & 179\\\\\n",
       "\t  7  & 155\\\\\n",
       "\t  8  & 140\\\\\n",
       "\t  9  & 113\\\\\n",
       "\t 10  &  77\\\\\n",
       "\t 11  &  41\\\\\n",
       "\t 12  &  17\\\\\n",
       "\t 13  &   8\\\\\n",
       "\t 14  &   2\\\\\n",
       "\\end{tabular}\n"
      ],
      "text/markdown": [
       "\n",
       "| time | number_reported |\n",
       "|---|---|\n",
       "|  1  |   2 |\n",
       "|  2  |   5 |\n",
       "|  3  |  16 |\n",
       "|  4  |  46 |\n",
       "|  5  | 135 |\n",
       "|  6  | 179 |\n",
       "|  7  | 155 |\n",
       "|  8  | 140 |\n",
       "|  9  | 113 |\n",
       "| 10  |  77 |\n",
       "| 11  |  41 |\n",
       "| 12  |  17 |\n",
       "| 13  |   8 |\n",
       "| 14  |   2 |\n",
       "\n"
      ],
      "text/plain": [
       "   time number_reported\n",
       "1   1     2            \n",
       "2   2     5            \n",
       "3   3    16            \n",
       "4   4    46            \n",
       "5   5   135            \n",
       "6   6   179            \n",
       "7   7   155            \n",
       "8   8   140            \n",
       "9   9   113            \n",
       "10 10    77            \n",
       "11 11    41            \n",
       "12 12    17            \n",
       "13 13     8            \n",
       "14 14     2            "
      ]
     },
     "metadata": {},
     "output_type": "display_data"
    }
   ],
   "source": [
    "# Load the flu dataset of reported cases\n",
    "reported_data <- read.csv(\"Graphics_and_Data/idm2_sir_reported_data.csv\")\n",
    "\n",
    "### YOUR CODE GOES HERE ###\n",
    "reported_data\n"
   ]
  },
  {
   "cell_type": "code",
   "execution_count": 10,
   "metadata": {},
   "outputs": [
    {
     "data": {
      "text/html": [
       "<dl>\n",
       "\t<dt>$par</dt>\n",
       "\t\t<dd><dl class=dl-horizontal>\n",
       "\t<dt>beta</dt>\n",
       "\t\t<dd>1.69137552032326</dd>\n",
       "\t<dt>gamma</dt>\n",
       "\t\t<dd>0.476465886187501</dd>\n",
       "</dl>\n",
       "</dd>\n",
       "\t<dt>$value</dt>\n",
       "\t\t<dd>-59.2399538554089</dd>\n",
       "\t<dt>$counts</dt>\n",
       "\t\t<dd><dl class=dl-horizontal>\n",
       "\t<dt>function</dt>\n",
       "\t\t<dd>61</dd>\n",
       "\t<dt>gradient</dt>\n",
       "\t\t<dd>&lt;NA&gt;</dd>\n",
       "</dl>\n",
       "</dd>\n",
       "\t<dt>$convergence</dt>\n",
       "\t\t<dd>0</dd>\n",
       "\t<dt>$message</dt>\n",
       "\t\t<dd>NULL</dd>\n",
       "</dl>\n"
      ],
      "text/latex": [
       "\\begin{description}\n",
       "\\item[\\$par] \\begin{description*}\n",
       "\\item[beta] 1.69137552032326\n",
       "\\item[gamma] 0.476465886187501\n",
       "\\end{description*}\n",
       "\n",
       "\\item[\\$value] -59.2399538554089\n",
       "\\item[\\$counts] \\begin{description*}\n",
       "\\item[function] 61\n",
       "\\item[gradient] <NA>\n",
       "\\end{description*}\n",
       "\n",
       "\\item[\\$convergence] 0\n",
       "\\item[\\$message] NULL\n",
       "\\end{description}\n"
      ],
      "text/markdown": [
       "$par\n",
       ":   beta\n",
       ":   1.69137552032326gamma\n",
       ":   0.476465886187501\n",
       "\n",
       "\n",
       "$value\n",
       ":   -59.2399538554089\n",
       "$counts\n",
       ":   function\n",
       ":   61gradient\n",
       ":   &lt;NA&gt;\n",
       "\n",
       "\n",
       "$convergence\n",
       ":   0\n",
       "$message\n",
       ":   NULL\n",
       "\n",
       "\n"
      ],
      "text/plain": [
       "$par\n",
       "     beta     gamma \n",
       "1.6913755 0.4764659 \n",
       "\n",
       "$value\n",
       "[1] -59.23995\n",
       "\n",
       "$counts\n",
       "function gradient \n",
       "      61       NA \n",
       "\n",
       "$convergence\n",
       "[1] 0\n",
       "\n",
       "$message\n",
       "NULL\n"
      ]
     },
     "metadata": {},
     "output_type": "display_data"
    }
   ],
   "source": [
    "# OPTIMISATION:\n",
    "## note that this code will not run as it is! You will need to fill in the placeholders.\n",
    "\n",
    "opt<-optim(par = c(beta = 1.5\n",
    "                        , gamma = 1) ,\n",
    "      fn = SIR_SSQ,\n",
    "      dat = reported_data,\n",
    "      control = list(fnscale=-1))  # tells optim() to look for the maximum number instead of the minimum (the default)\n",
    "\n",
    "\n",
    "opt"
   ]
  },
  {
   "cell_type": "markdown",
   "metadata": {},
   "source": [
    "Finally, since we have the full dataset of the number of infected people, confirm that these parameter values indeed produce a good visual fit to the real data by plotting the model simulation alongside the data, in the cell below."
   ]
  },
  {
   "cell_type": "code",
   "execution_count": 15,
   "metadata": {},
   "outputs": [
    {
     "data": {
      "text/html": [
       "<table>\n",
       "<thead><tr><th scope=col>time</th><th scope=col>number_infected</th></tr></thead>\n",
       "<tbody>\n",
       "\t<tr><td> 1 </td><td>  3</td></tr>\n",
       "\t<tr><td> 2 </td><td>  8</td></tr>\n",
       "\t<tr><td> 3 </td><td> 26</td></tr>\n",
       "\t<tr><td> 4 </td><td> 76</td></tr>\n",
       "\t<tr><td> 5 </td><td>225</td></tr>\n",
       "\t<tr><td> 6 </td><td>298</td></tr>\n",
       "\t<tr><td> 7 </td><td>258</td></tr>\n",
       "\t<tr><td> 8 </td><td>233</td></tr>\n",
       "\t<tr><td> 9 </td><td>189</td></tr>\n",
       "\t<tr><td>10 </td><td>128</td></tr>\n",
       "\t<tr><td>11 </td><td> 68</td></tr>\n",
       "\t<tr><td>12 </td><td> 29</td></tr>\n",
       "\t<tr><td>13 </td><td> 14</td></tr>\n",
       "\t<tr><td>14 </td><td>  4</td></tr>\n",
       "</tbody>\n",
       "</table>\n"
      ],
      "text/latex": [
       "\\begin{tabular}{r|ll}\n",
       " time & number\\_infected\\\\\n",
       "\\hline\n",
       "\t  1  &   3\\\\\n",
       "\t  2  &   8\\\\\n",
       "\t  3  &  26\\\\\n",
       "\t  4  &  76\\\\\n",
       "\t  5  & 225\\\\\n",
       "\t  6  & 298\\\\\n",
       "\t  7  & 258\\\\\n",
       "\t  8  & 233\\\\\n",
       "\t  9  & 189\\\\\n",
       "\t 10  & 128\\\\\n",
       "\t 11  &  68\\\\\n",
       "\t 12  &  29\\\\\n",
       "\t 13  &  14\\\\\n",
       "\t 14  &   4\\\\\n",
       "\\end{tabular}\n"
      ],
      "text/markdown": [
       "\n",
       "| time | number_infected |\n",
       "|---|---|\n",
       "|  1  |   3 |\n",
       "|  2  |   8 |\n",
       "|  3  |  26 |\n",
       "|  4  |  76 |\n",
       "|  5  | 225 |\n",
       "|  6  | 298 |\n",
       "|  7  | 258 |\n",
       "|  8  | 233 |\n",
       "|  9  | 189 |\n",
       "| 10  | 128 |\n",
       "| 11  |  68 |\n",
       "| 12  |  29 |\n",
       "| 13  |  14 |\n",
       "| 14  |   4 |\n",
       "\n"
      ],
      "text/plain": [
       "   time number_infected\n",
       "1   1     3            \n",
       "2   2     8            \n",
       "3   3    26            \n",
       "4   4    76            \n",
       "5   5   225            \n",
       "6   6   298            \n",
       "7   7   258            \n",
       "8   8   233            \n",
       "9   9   189            \n",
       "10 10   128            \n",
       "11 11    68            \n",
       "12 12    29            \n",
       "13 13    14            \n",
       "14 14     4            "
      ]
     },
     "metadata": {},
     "output_type": "display_data"
    }
   ],
   "source": [
    "# Load the flu dataset of the total number infected\n",
    "full_data <- read.csv(\"Graphics_and_Data/idm2_sir_data.csv\")\n",
    "full_data\n",
    "\n",
    "### YOUR CODE GOES HERE ###"
   ]
  },
  {
   "cell_type": "code",
   "execution_count": 16,
   "metadata": {},
   "outputs": [
    {
     "data": {
      "image/png": "[encoded data removed]",
      "text/plain": [
       "plot without title"
      ]
     },
     "metadata": {},
     "output_type": "display_data"
    }
   ],
   "source": [
    "Initial_state_values <- c(S = 762, I = 1, R = 0)\n",
    "    \n",
    "    parameters<-opt$par\n",
    "    timestep<- seq(0,14,0.1)\n",
    "\n",
    "output <- as.data.frame(ode(y = Initial_state_values, \n",
    "                            times = timestep, \n",
    "                            func = sir_model,\n",
    "                            parms = parameters))\n",
    "ggplot() +\n",
    "  geom_line(data = output, aes(x = output$time, y = output$I)) +geom_point(data=full_data,aes(x=full_data$time,y=full_data$number_infected),color=\"red\")"
   ]
  }
 ],
 "metadata": {
  "kernelspec": {
   "display_name": "R",
   "language": "R",
   "name": "ir"
  },
  "language_info": {
   "codemirror_mode": "r",
   "file_extension": ".r",
   "mimetype": "text/x-r-source",
   "name": "R",
   "pygments_lexer": "r",
   "version": "3.5.1"
  }
 },
 "nbformat": 4,
 "nbformat_minor": 2
}
